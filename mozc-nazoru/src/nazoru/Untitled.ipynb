{
 "cells": [
  {
   "cell_type": "code",
   "execution_count": 1,
   "metadata": {},
   "outputs": [],
   "source": [
    "import ndjson\n",
    "import numpy as np\n",
    "import pandas as pd\n",
    "import matplotlib.pyplot as plt"
   ]
  },
  {
   "cell_type": "code",
   "execution_count": 2,
   "metadata": {},
   "outputs": [
    {
     "data": {
      "text/html": [
       "<div>\n",
       "<style scoped>\n",
       "    .dataframe tbody tr th:only-of-type {\n",
       "        vertical-align: middle;\n",
       "    }\n",
       "\n",
       "    .dataframe tbody tr th {\n",
       "        vertical-align: top;\n",
       "    }\n",
       "\n",
       "    .dataframe thead th {\n",
       "        text-align: right;\n",
       "    }\n",
       "</style>\n",
       "<table border=\"1\" class=\"dataframe\">\n",
       "  <thead>\n",
       "    <tr style=\"text-align: right;\">\n",
       "      <th></th>\n",
       "      <th>events</th>\n",
       "      <th>kana</th>\n",
       "    </tr>\n",
       "  </thead>\n",
       "  <tbody>\n",
       "    <tr>\n",
       "      <th>0</th>\n",
       "      <td>[[u, down, 1482], [y, down, 1594], [n, down, 1...</td>\n",
       "      <td>a</td>\n",
       "    </tr>\n",
       "    <tr>\n",
       "      <th>1</th>\n",
       "      <td>[[u, down, 882], [y, down, 994], [b, down, 118...</td>\n",
       "      <td>a</td>\n",
       "    </tr>\n",
       "    <tr>\n",
       "      <th>2</th>\n",
       "      <td>[[u, down, 903], [y, down, 1000], [g, down, 10...</td>\n",
       "      <td>a</td>\n",
       "    </tr>\n",
       "    <tr>\n",
       "      <th>3</th>\n",
       "      <td>[[u, down, 394], [y, down, 586], [t, down, 682...</td>\n",
       "      <td>a</td>\n",
       "    </tr>\n",
       "    <tr>\n",
       "      <th>4</th>\n",
       "      <td>[[u, down, 480], [y, down, 576], [g, down, 688...</td>\n",
       "      <td>a</td>\n",
       "    </tr>\n",
       "  </tbody>\n",
       "</table>\n",
       "</div>"
      ],
      "text/plain": [
       "                                              events kana\n",
       "0  [[u, down, 1482], [y, down, 1594], [n, down, 1...    a\n",
       "1  [[u, down, 882], [y, down, 994], [b, down, 118...    a\n",
       "2  [[u, down, 903], [y, down, 1000], [g, down, 10...    a\n",
       "3  [[u, down, 394], [y, down, 586], [t, down, 682...    a\n",
       "4  [[u, down, 480], [y, down, 576], [g, down, 688...    a"
      ]
     },
     "execution_count": 2,
     "metadata": {},
     "output_type": "execute_result"
    }
   ],
   "source": [
    "with open('../../data/1112model.ndjson') as f:\n",
    "    data = ndjson.load(f)\n",
    "df = pd.io.json.json_normalize(data)\n",
    "#df = df[df[\"kana\"] == \"g\"].reset_index()\n",
    "df.head()"
   ]
  },
  {
   "cell_type": "code",
   "execution_count": 77,
   "metadata": {
    "scrolled": true
   },
   "outputs": [
    {
     "data": {
      "text/html": [
       "<div>\n",
       "<style scoped>\n",
       "    .dataframe tbody tr th:only-of-type {\n",
       "        vertical-align: middle;\n",
       "    }\n",
       "\n",
       "    .dataframe tbody tr th {\n",
       "        vertical-align: top;\n",
       "    }\n",
       "\n",
       "    .dataframe thead th {\n",
       "        text-align: right;\n",
       "    }\n",
       "</style>\n",
       "<table border=\"1\" class=\"dataframe\">\n",
       "  <thead>\n",
       "    <tr style=\"text-align: right;\">\n",
       "      <th></th>\n",
       "      <th>events</th>\n",
       "      <th>kana</th>\n",
       "    </tr>\n",
       "  </thead>\n",
       "  <tbody>\n",
       "    <tr>\n",
       "      <th>0</th>\n",
       "      <td>[[u, down, 1482], [y, down, 1594], [n, down, 1...</td>\n",
       "      <td>a</td>\n",
       "    </tr>\n",
       "    <tr>\n",
       "      <th>1</th>\n",
       "      <td>[[u, down, 882], [y, down, 994], [b, down, 118...</td>\n",
       "      <td>a</td>\n",
       "    </tr>\n",
       "    <tr>\n",
       "      <th>2</th>\n",
       "      <td>[[u, down, 903], [y, down, 1000], [g, down, 10...</td>\n",
       "      <td>a</td>\n",
       "    </tr>\n",
       "    <tr>\n",
       "      <th>3</th>\n",
       "      <td>[[u, down, 394], [y, down, 586], [t, down, 682...</td>\n",
       "      <td>a</td>\n",
       "    </tr>\n",
       "    <tr>\n",
       "      <th>4</th>\n",
       "      <td>[[u, down, 480], [y, down, 576], [g, down, 688...</td>\n",
       "      <td>a</td>\n",
       "    </tr>\n",
       "  </tbody>\n",
       "</table>\n",
       "</div>"
      ],
      "text/plain": [
       "                                              events kana\n",
       "0  [[u, down, 1482], [y, down, 1594], [n, down, 1...    a\n",
       "1  [[u, down, 882], [y, down, 994], [b, down, 118...    a\n",
       "2  [[u, down, 903], [y, down, 1000], [g, down, 10...    a\n",
       "3  [[u, down, 394], [y, down, 586], [t, down, 682...    a\n",
       "4  [[u, down, 480], [y, down, 576], [g, down, 688...    a"
      ]
     },
     "execution_count": 77,
     "metadata": {},
     "output_type": "execute_result"
    }
   ],
   "source": [
    "with open('../../data/1112model.ndjson') as f:\n",
    "    data = ndjson.load(f)\n",
    "df_shinoda = pd.io.json.json_normalize(data)\n",
    "#df_shinoda = df_shinoda[df_shinoda[\"kana\"] == \"g\"].reset_index()\n",
    "df_shinoda.head()"
   ]
  },
  {
   "cell_type": "code",
   "execution_count": 78,
   "metadata": {
    "scrolled": true
   },
   "outputs": [
    {
     "data": {
      "text/html": [
       "<div>\n",
       "<style scoped>\n",
       "    .dataframe tbody tr th:only-of-type {\n",
       "        vertical-align: middle;\n",
       "    }\n",
       "\n",
       "    .dataframe tbody tr th {\n",
       "        vertical-align: top;\n",
       "    }\n",
       "\n",
       "    .dataframe thead th {\n",
       "        text-align: right;\n",
       "    }\n",
       "</style>\n",
       "<table border=\"1\" class=\"dataframe\">\n",
       "  <thead>\n",
       "    <tr style=\"text-align: right;\">\n",
       "      <th></th>\n",
       "      <th>events</th>\n",
       "    </tr>\n",
       "  </thead>\n",
       "  <tbody>\n",
       "    <tr>\n",
       "      <th>0</th>\n",
       "      <td>[[u, down, 1482], [y, down, 1594], [n, down, 1...</td>\n",
       "    </tr>\n",
       "    <tr>\n",
       "      <th>1</th>\n",
       "      <td>[[u, down, 882], [y, down, 994], [b, down, 118...</td>\n",
       "    </tr>\n",
       "    <tr>\n",
       "      <th>2</th>\n",
       "      <td>[[u, down, 903], [y, down, 1000], [g, down, 10...</td>\n",
       "    </tr>\n",
       "    <tr>\n",
       "      <th>3</th>\n",
       "      <td>[[u, down, 394], [y, down, 586], [t, down, 682...</td>\n",
       "    </tr>\n",
       "    <tr>\n",
       "      <th>4</th>\n",
       "      <td>[[u, down, 480], [y, down, 576], [g, down, 688...</td>\n",
       "    </tr>\n",
       "  </tbody>\n",
       "</table>\n",
       "</div>"
      ],
      "text/plain": [
       "                                              events\n",
       "0  [[u, down, 1482], [y, down, 1594], [n, down, 1...\n",
       "1  [[u, down, 882], [y, down, 994], [b, down, 118...\n",
       "2  [[u, down, 903], [y, down, 1000], [g, down, 10...\n",
       "3  [[u, down, 394], [y, down, 586], [t, down, 682...\n",
       "4  [[u, down, 480], [y, down, 576], [g, down, 688..."
      ]
     },
     "execution_count": 78,
     "metadata": {},
     "output_type": "execute_result"
    }
   ],
   "source": [
    "df_events = pd.DataFrame(df_shinoda[\"events\"])\n",
    "df_events.head()"
   ]
  },
  {
   "cell_type": "code",
   "execution_count": 79,
   "metadata": {
    "scrolled": false
   },
   "outputs": [
    {
     "data": {
      "text/plain": [
       "[0, 112, 304, 512, 608, 704]"
      ]
     },
     "execution_count": 79,
     "metadata": {},
     "output_type": "execute_result"
    }
   ],
   "source": [
    "time_arrange(df_events[\"events\"][0])"
   ]
  },
  {
   "cell_type": "code",
   "execution_count": 86,
   "metadata": {},
   "outputs": [],
   "source": [
    "def time_arrange(events_list):\n",
    "    out_list = []\n",
    "    for i in range(len(events_list)):\n",
    "        #print(events_list[i][2] - events_list[0][2])\n",
    "        out_list.append([events_list[i][0], \"down\", events_list[i][2] - events_list[0][2]])\n",
    "    return out_list"
   ]
  },
  {
   "cell_type": "code",
   "execution_count": 81,
   "metadata": {
    "scrolled": false
   },
   "outputs": [],
   "source": [
    "df_shinoda[\"events\"] = df_shinoda[\"events\"].apply(time_arrange)"
   ]
  },
  {
   "cell_type": "code",
   "execution_count": 78,
   "metadata": {},
   "outputs": [],
   "source": [
    "def time_plot(df, index):\n",
    "    df_events = pd.DataFrame(df[\"events\"][index])\n",
    "    df_events = pd.DataFrame(df[\"events\"][index])\n",
    "    df_events[\"flag\"] = 1\n",
    "    df_events.plot(x = 2, y = [\"flag\"], kind = \"scatter\")\n",
    "    plt.xlim(0,800)\n",
    "    return"
   ]
  },
  {
   "cell_type": "code",
   "execution_count": 85,
   "metadata": {},
   "outputs": [
    {
     "name": "stdout",
     "output_type": "stream",
     "text": [
      "Google\n",
      "shinodata\n"
     ]
    },
    {
     "data": {
      "image/png": "[encoded data removed]",
      "text/plain": [
       "<Figure size 432x288 with 1 Axes>"
      ]
     },
     "metadata": {
      "needs_background": "light"
     },
     "output_type": "display_data"
    },
    {
     "data": {
      "image/png": "[encoded data removed]",
      "text/plain": [
       "<Figure size 432x288 with 1 Axes>"
      ]
     },
     "metadata": {
      "needs_background": "light"
     },
     "output_type": "display_data"
    }
   ],
   "source": [
    "print(\"Google\")\n",
    "time_plot(df, 4)\n",
    "print(\"shinodata\")\n",
    "time_plot(df_shinoda, 4)"
   ]
  },
  {
   "cell_type": "code",
   "execution_count": 66,
   "metadata": {},
   "outputs": [],
   "source": [
    "data = [[1,2,3],[1,2,3]]\n",
    "labels = [[0,0,0],[0,0,0]]\n",
    "l = list(zip(data, labels))\n",
    "np.random.shuffle(l)\n",
    "data, labels = zip(*l)\n",
    "\n",
    "data = list(data)\n",
    "labels = list(labels)"
   ]
  },
  {
   "cell_type": "code",
   "execution_count": 67,
   "metadata": {},
   "outputs": [
    {
     "data": {
      "text/plain": [
       "[[0, 0, 0], [0, 0, 0]]"
      ]
     },
     "execution_count": 67,
     "metadata": {},
     "output_type": "execute_result"
    }
   ],
   "source": [
    "data\n",
    "labels"
   ]
  },
  {
   "cell_type": "code",
   "execution_count": 92,
   "metadata": {},
   "outputs": [],
   "source": [
    "#1112時点の前処理\n",
    "with open('../../data/1112model_abc.ndjson') as f:\n",
    "    data = ndjson.load(f)\n",
    "df_shinoda = pd.io.json.json_normalize(data)\n",
    "#df_shinoda = df_shinoda[df_shinoda[\"kana\"] == \"g\"].reset_index()\n",
    "df_shinoda.head()\n",
    "df_shinoda[\"events\"] = df_shinoda[\"events\"].apply(time_arrange)\n",
    "df_shinoda.head()\n",
    "#with open('/Users/sanoyuki/3*3data.ndjson') as f:\n",
    "#    data = ndjson.load(f)\n",
    "#df_shinoda = pd.io.json.json_normalize(data)\n",
    "df_shinoda = df_shinoda.sample(frac=1)\n",
    "data = df_shinoda.to_dict('records')\n",
    "with open('../../data/1112model_shuffle_abc.ndjson', 'w') as f:\n",
    "    ndjson.dump(data, f)"
   ]
  },
  {
   "cell_type": "code",
   "execution_count": 56,
   "metadata": {
    "scrolled": true
   },
   "outputs": [
    {
     "data": {
      "text/html": [
       "<div>\n",
       "<style scoped>\n",
       "    .dataframe tbody tr th:only-of-type {\n",
       "        vertical-align: middle;\n",
       "    }\n",
       "\n",
       "    .dataframe tbody tr th {\n",
       "        vertical-align: top;\n",
       "    }\n",
       "\n",
       "    .dataframe thead th {\n",
       "        text-align: right;\n",
       "    }\n",
       "</style>\n",
       "<table border=\"1\" class=\"dataframe\">\n",
       "  <thead>\n",
       "    <tr style=\"text-align: right;\">\n",
       "      <th></th>\n",
       "      <th>events</th>\n",
       "      <th>kana</th>\n",
       "    </tr>\n",
       "  </thead>\n",
       "  <tbody>\n",
       "    <tr>\n",
       "      <th>0</th>\n",
       "      <td>[[u, down, 0], [y, down, 1594], [n, down, 1786...</td>\n",
       "      <td>a</td>\n",
       "    </tr>\n",
       "    <tr>\n",
       "      <th>1</th>\n",
       "      <td>[[u, down, 0], [y, down, 994], [b, down, 1186]...</td>\n",
       "      <td>a</td>\n",
       "    </tr>\n",
       "    <tr>\n",
       "      <th>2</th>\n",
       "      <td>[[u, down, 0], [y, down, 1000], [g, down, 1096...</td>\n",
       "      <td>a</td>\n",
       "    </tr>\n",
       "    <tr>\n",
       "      <th>3</th>\n",
       "      <td>[[u, down, 0], [y, down, 586], [t, down, 682],...</td>\n",
       "      <td>a</td>\n",
       "    </tr>\n",
       "    <tr>\n",
       "      <th>4</th>\n",
       "      <td>[[u, down, 0], [y, down, 576], [g, down, 688],...</td>\n",
       "      <td>a</td>\n",
       "    </tr>\n",
       "  </tbody>\n",
       "</table>\n",
       "</div>"
      ],
      "text/plain": [
       "                                              events kana\n",
       "0  [[u, down, 0], [y, down, 1594], [n, down, 1786...    a\n",
       "1  [[u, down, 0], [y, down, 994], [b, down, 1186]...    a\n",
       "2  [[u, down, 0], [y, down, 1000], [g, down, 1096...    a\n",
       "3  [[u, down, 0], [y, down, 586], [t, down, 682],...    a\n",
       "4  [[u, down, 0], [y, down, 576], [g, down, 688],...    a"
      ]
     },
     "execution_count": 56,
     "metadata": {},
     "output_type": "execute_result"
    }
   ],
   "source": [
    "df_shinoda.head()"
   ]
  },
  {
   "cell_type": "code",
   "execution_count": 51,
   "metadata": {},
   "outputs": [
    {
     "data": {
      "text/html": [
       "<div>\n",
       "<style scoped>\n",
       "    .dataframe tbody tr th:only-of-type {\n",
       "        vertical-align: middle;\n",
       "    }\n",
       "\n",
       "    .dataframe tbody tr th {\n",
       "        vertical-align: top;\n",
       "    }\n",
       "\n",
       "    .dataframe thead th {\n",
       "        text-align: right;\n",
       "    }\n",
       "</style>\n",
       "<table border=\"1\" class=\"dataframe\">\n",
       "  <thead>\n",
       "    <tr style=\"text-align: right;\">\n",
       "      <th></th>\n",
       "      <th>events</th>\n",
       "      <th>kana</th>\n",
       "    </tr>\n",
       "  </thead>\n",
       "  <tbody>\n",
       "    <tr>\n",
       "      <th>0</th>\n",
       "      <td>[[h, 0], [n, 784], [y, 1088]]</td>\n",
       "      <td>i</td>\n",
       "    </tr>\n",
       "    <tr>\n",
       "      <th>1</th>\n",
       "      <td>[[h, 0], [n, 1088], [g, 1280], [y, 1488]]</td>\n",
       "      <td>j</td>\n",
       "    </tr>\n",
       "    <tr>\n",
       "      <th>2</th>\n",
       "      <td>[[g, 0], [j, 788], [y, 996], [n, 1284], [m, 13...</td>\n",
       "      <td>e</td>\n",
       "    </tr>\n",
       "    <tr>\n",
       "      <th>3</th>\n",
       "      <td>[[y, 0], [h, 1168], [n, 1280]]</td>\n",
       "      <td>l</td>\n",
       "    </tr>\n",
       "    <tr>\n",
       "      <th>4</th>\n",
       "      <td>[[t, 0], [g, 977], [b, 1073], [h, 1265], [b, 1...</td>\n",
       "      <td>k</td>\n",
       "    </tr>\n",
       "  </tbody>\n",
       "</table>\n",
       "</div>"
      ],
      "text/plain": [
       "                                              events kana\n",
       "0                      [[h, 0], [n, 784], [y, 1088]]    i\n",
       "1          [[h, 0], [n, 1088], [g, 1280], [y, 1488]]    j\n",
       "2  [[g, 0], [j, 788], [y, 996], [n, 1284], [m, 13...    e\n",
       "3                     [[y, 0], [h, 1168], [n, 1280]]    l\n",
       "4  [[t, 0], [g, 977], [b, 1073], [h, 1265], [b, 1...    k"
      ]
     },
     "execution_count": 51,
     "metadata": {},
     "output_type": "execute_result"
    }
   ],
   "source": [
    "with open('../../data/1112model_shuffle_abc.ndjson') as f:\n",
    "    data = ndjson.load(f)\n",
    "df_shinoda = pd.io.json.json_normalize(data)\n",
    "def delete_down(event_list):\n",
    "    for event in event_list:\n",
    "        event.pop(1)\n",
    "    return event_list\n",
    "df_shinoda[\"events\"].apply(delete_down)\n",
    "df_shinoda.head()"
   ]
  },
  {
   "cell_type": "code",
   "execution_count": 89,
   "metadata": {},
   "outputs": [],
   "source": [
    "input_list = df_shinoda[\"events\"][0]"
   ]
  },
  {
   "cell_type": "code",
   "execution_count": 48,
   "metadata": {
    "scrolled": true
   },
   "outputs": [
    {
     "data": {
      "text/plain": [
       "[['h', 0], ['n', 784], ['y', 1088]]"
      ]
     },
     "execution_count": 48,
     "metadata": {},
     "output_type": "execute_result"
    }
   ],
   "source": [
    "delete_down(df_shinoda[\"events\"][0])"
   ]
  },
  {
   "cell_type": "code",
   "execution_count": 90,
   "metadata": {},
   "outputs": [
    {
     "data": {
      "text/plain": [
       "['u', 'y', 'n', 'u', 'j', 'm']"
      ]
     },
     "execution_count": 90,
     "metadata": {},
     "output_type": "execute_result"
    }
   ],
   "source": [
    "[d[0] for d in input_list]"
   ]
  },
  {
   "cell_type": "code",
   "execution_count": 91,
   "metadata": {},
   "outputs": [
    {
     "data": {
      "text/plain": [
       "[['u', 'down', 0],\n",
       " ['y', 'down', 112],\n",
       " ['n', 'down', 304],\n",
       " ['u', 'down', 512],\n",
       " ['j', 'down', 608],\n",
       " ['m', 'down', 704]]"
      ]
     },
     "execution_count": 91,
     "metadata": {},
     "output_type": "execute_result"
    }
   ],
   "source": [
    "input_list"
   ]
  },
  {
   "cell_type": "code",
   "execution_count": null,
   "metadata": {},
   "outputs": [],
   "source": []
  }
 ],
 "metadata": {
  "kernelspec": {
   "display_name": "Python3",
   "language": "python",
   "name": "python3"
  },
  "language_info": {
   "codemirror_mode": {
    "name": "ipython",
    "version": 3
   },
   "file_extension": ".py",
   "mimetype": "text/x-python",
   "name": "python",
   "nbconvert_exporter": "python",
   "pygments_lexer": "ipython3",
   "version": "3.7.0"
  }
 },
 "nbformat": 4,
 "nbformat_minor": 2
}
